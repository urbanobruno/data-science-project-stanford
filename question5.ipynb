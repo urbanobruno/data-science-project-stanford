{
  "nbformat": 4,
  "nbformat_minor": 0,
  "metadata": {
    "colab": {
      "provenance": []
    },
    "kernelspec": {
      "name": "python3",
      "display_name": "Python 3"
    },
    "language_info": {
      "name": "python"
    }
  },
  "cells": [
    {
      "cell_type": "code",
      "source": [
        "import pandas as pd\n",
        "import numpy as np\n",
        "import matplotlib.pyplot as plt\n",
        "from sklearn.model_selection import cross_val_score, train_test_split, GridSearchCV\n",
        "from sklearn.linear_model import LinearRegression\n",
        "from sklearn.neighbors import KNeighborsRegressor\n",
        "from sklearn.metrics import make_scorer, mean_absolute_error, mean_squared_error\n",
        "from sklearn.preprocessing import StandardScaler\n",
        "from sklearn.impute import SimpleImputer\n",
        "from sklearn.pipeline import Pipeline\n",
        "from sklearn.compose import ColumnTransformer\n",
        "from sklearn.preprocessing import OneHotEncoder\n",
        "import seaborn as sns\n"
      ],
      "metadata": {
        "id": "Sno0R9dfj_Dw"
      },
      "execution_count": 73,
      "outputs": []
    },
    {
      "cell_type": "code",
      "source": [
        "df_quality1 = pd.read_csv('https://raw.githubusercontent.com/urbanobruno/data-science-project-stanford/master/prepared_data/quality1.csv')\n",
        "school15 = pd.read_csv('https://raw.githubusercontent.com/urbanobruno/data-science-project-stanford/master/prepared_data/school15.csv')\n",
        "school25 = pd.read_csv('https://raw.githubusercontent.com/urbanobruno/data-science-project-stanford/master/prepared_data/school25.csv')\n",
        "df_quality2 = pd.read_csv('https://raw.githubusercontent.com/urbanobruno/data-science-project-stanford/master/prepared_data/quality2.csv')"
      ],
      "metadata": {
        "id": "yVZ5ebpC_jj3"
      },
      "execution_count": 3,
      "outputs": []
    },
    {
      "cell_type": "code",
      "source": [
        "df_quality1.columns"
      ],
      "metadata": {
        "colab": {
          "base_uri": "https://localhost:8080/"
        },
        "id": "KlrhySV9_k9C",
        "outputId": "c6ab19c3-4853-4052-a674-935560fa0d36"
      },
      "execution_count": 5,
      "outputs": [
        {
          "output_type": "execute_result",
          "data": {
            "text/plain": [
              "Index(['SHCODE', 'WBCTRY', 'COUNTRY', 'TEAPRI60', 'TEAPRI65', 'TEAPRI70',\n",
              "       'TEAPRI75', 'TEAPRI80', 'TEAPRI85', 'TEAPRI90', 'TEASEC60', 'TEASEC65',\n",
              "       'TEASEC70', 'TEASEC75', 'TEASEC80', 'TEASEC85', 'TEASEC90', 'GEEPRI60',\n",
              "       'GEEPRI65', 'GEEPRI70', 'GEEPRI75', 'GEEPRI80', 'GEEPRI85', 'GEEPRI90',\n",
              "       'GEESEC60', 'GEESEC65', 'GEESEC70', 'GEESEC75', 'GEESEC80', 'GEESEC85',\n",
              "       'GEESEC90', 'SHPUPP60', 'SHPUPP65', 'SHPUPP70', 'SHPUPP75', 'SHPUPP80',\n",
              "       'SHPUPP85', 'SHPUPP90', 'SHPUPS60', 'SHPUPS65', 'SHPUPS70', 'SHPUPS75',\n",
              "       'SHPUPS80', 'SHPUPS85', 'SHPUPS90', 'REPPRI65', 'REPPRI70', 'REPPRI75',\n",
              "       'REPPRI80', 'REPPRI85', 'REPPRI90', 'REPSEC70', 'REPSEC75', 'REPSEC80',\n",
              "       'REPSEC85', 'REPSEC90', 'SCHDAY', 'SCHTIME', 'SALARP60', 'SALARP65',\n",
              "       'SALARP70', 'SALARP75', 'SALARP80', 'SALARP85', 'SALARP90', 'SHSALP60',\n",
              "       'SHSALP65', 'SHSALP70', 'SHSALP75', 'SHSALP80', 'SHSALP85', 'SHSALP90',\n",
              "       'DROP70', 'DROP75', 'DROP80', 'DROP85', 'DROP90', 'CONTINENT'],\n",
              "      dtype='object')"
            ]
          },
          "metadata": {},
          "execution_count": 5
        }
      ]
    },
    {
      "cell_type": "code",
      "source": [
        "df_quality2.columns"
      ],
      "metadata": {
        "colab": {
          "base_uri": "https://localhost:8080/"
        },
        "id": "AreKzi_t_1yi",
        "outputId": "5cc9b268-f625-4486-c052-c7ddfaa59c2d"
      },
      "execution_count": 6,
      "outputs": [
        {
          "output_type": "execute_result",
          "data": {
            "text/plain": [
              "Index(['SHCODE', 'COUNTRY', 'M_64_13', 'M_64_FS', 'M_8283_13', 'M_8283_FS',\n",
              "       'M_88_13', 'M_9091_10', 'M_9091_14', 'M_9398_13', 'S_7072_10',\n",
              "       'S_7072_14', 'S_7072_FS', 'S_84_10', 'S_84_13', 'S_84_FS', 'S_88_13',\n",
              "       'S_9091_9', 'S_9091_13', 'S_9398_13', 'R_7072_13', 'R_9091_9',\n",
              "       'R_9091_13'],\n",
              "      dtype='object')"
            ]
          },
          "metadata": {},
          "execution_count": 6
        }
      ]
    },
    {
      "cell_type": "code",
      "source": [
        "school15.columns"
      ],
      "metadata": {
        "colab": {
          "base_uri": "https://localhost:8080/"
        },
        "id": "nFT0iEMB_4R5",
        "outputId": "228c815c-dd48-45d2-c2e3-c28cf41c997c"
      },
      "execution_count": 7,
      "outputs": [
        {
          "output_type": "execute_result",
          "data": {
            "text/plain": [
              "Index(['SHCODE', 'COUNTRY', 'YEAR', 'N015', 'PRI15', 'PRIC15', 'SEC15',\n",
              "       'SECC15', 'HIGH15', 'HIGHC15', 'TYR15', 'PYR15', 'SYR15', 'HYR15'],\n",
              "      dtype='object')"
            ]
          },
          "metadata": {},
          "execution_count": 7
        }
      ]
    },
    {
      "cell_type": "code",
      "source": [
        "school25.columns"
      ],
      "metadata": {
        "colab": {
          "base_uri": "https://localhost:8080/"
        },
        "id": "hK-iTp9N_9Nk",
        "outputId": "d22bd6e7-a987-4aa6-a3df-9d93d2388956"
      },
      "execution_count": 8,
      "outputs": [
        {
          "output_type": "execute_result",
          "data": {
            "text/plain": [
              "Index(['SHCODE', 'COUNTRY', 'YEAR', 'N025', 'PRI25', 'PRIC25', 'SEC25',\n",
              "       'SECC25', 'HIGH25', 'HIGHC25', 'TYR25', 'PYR25', 'SYR25', 'HYR25'],\n",
              "      dtype='object')"
            ]
          },
          "metadata": {},
          "execution_count": 8
        }
      ]
    },
    {
      "cell_type": "markdown",
      "source": [
        "selecting the feature variaables"
      ],
      "metadata": {
        "id": "xXPi-dTxHMXo"
      }
    },
    {
      "cell_type": "code",
      "source": [
        "\n",
        "df_quality1_selected = df_quality1[\n",
        "    ['SHCODE', 'COUNTRY', 'DROP70', 'DROP75', 'DROP80', 'DROP85', 'DROP90',\n",
        "     'REPPRI65', 'REPPRI70', 'REPPRI75', 'REPPRI80', 'REPPRI85', 'REPPRI90',\n",
        "     'REPSEC70', 'REPSEC75', 'REPSEC80', 'REPSEC85', 'REPSEC90',\n",
        "     'SALARP60', 'SALARP65', 'SALARP70', 'SALARP75', 'SALARP80', 'SALARP85', 'SALARP90',\n",
        "     'SHPUPP60', 'SHPUPP65', 'SHPUPP70', 'SHPUPP75', 'SHPUPP80', 'SHPUPP85', 'SHPUPP90',\n",
        "     'SHPUPS60', 'SHPUPS65', 'SHPUPS70', 'SHPUPS75', 'SHPUPS80', 'SHPUPS85', 'SHPUPS90'\n",
        "    ]\n",
        "]\n",
        "\n",
        "\n",
        "final_data = df_quality1_selected"
      ],
      "metadata": {
        "id": "506u7LiFFmwo"
      },
      "execution_count": 70,
      "outputs": []
    },
    {
      "cell_type": "code",
      "source": [
        "final_data.fillna(method='ffill', inplace=True)\n",
        "\n",
        "data_df=pd.DataFrame(final_data)\n",
        "data_df.head()"
      ],
      "metadata": {
        "colab": {
          "base_uri": "https://localhost:8080/",
          "height": 394
        },
        "id": "kgJOVV7tHKIi",
        "outputId": "c2ce5e19-33f6-45eb-8d2f-6ea05697eb33"
      },
      "execution_count": 71,
      "outputs": [
        {
          "output_type": "stream",
          "name": "stderr",
          "text": [
            "<ipython-input-71-c6ddcd87673e>:1: FutureWarning: DataFrame.fillna with 'method' is deprecated and will raise in a future version. Use obj.ffill() or obj.bfill() instead.\n",
            "  final_data.fillna(method='ffill', inplace=True)\n",
            "<ipython-input-71-c6ddcd87673e>:1: SettingWithCopyWarning: \n",
            "A value is trying to be set on a copy of a slice from a DataFrame\n",
            "\n",
            "See the caveats in the documentation: https://pandas.pydata.org/pandas-docs/stable/user_guide/indexing.html#returning-a-view-versus-a-copy\n",
            "  final_data.fillna(method='ffill', inplace=True)\n"
          ]
        },
        {
          "output_type": "execute_result",
          "data": {
            "text/plain": [
              "   SHCODE       COUNTRY  DROP70  DROP75  DROP80  DROP85  DROP90  REPPRI65  \\\n",
              "0       1       Algeria    31.3    28.8    23.5     9.8    10.0       NaN   \n",
              "1       2        Angola    66.0    66.0    66.0    66.0    66.0       NaN   \n",
              "2       3         Benin    64.0    64.0    64.0    64.0    60.0      22.0   \n",
              "3       4      Botswana    50.4    18.2    26.7    10.7    20.0       0.0   \n",
              "4       5  Burkina Faso    51.0    38.3    25.1    26.2    29.0      18.0   \n",
              "\n",
              "   REPPRI70  REPPRI75  ...   SHPUPP80   SHPUPP85  SHPUPP90    SHPUPS60  \\\n",
              "0       NaN      13.0  ...   8.600000        NaN      13.3         NaN   \n",
              "1       NaN      13.0  ...   8.600000        NaN      13.3         NaN   \n",
              "2      17.0      22.0  ...  18.200001        NaN      13.3         NaN   \n",
              "3       0.0       3.0  ...  11.200000   9.200000      13.3  147.100006   \n",
              "4       0.0       3.0  ...  22.000000  16.299999      13.3  147.100006   \n",
              "\n",
              "     SHPUPS65    SHPUPS70    SHPUPS75   SHPUPS80   SHPUPS85  SHPUPS90  \n",
              "0   75.199997   48.900002   59.200001  23.000000        NaN      31.5  \n",
              "1   75.199997   48.900002   59.200001  23.000000        NaN      31.5  \n",
              "2  123.800003  101.099998   39.400002  40.200001        NaN      31.5  \n",
              "3  224.199997   97.900002   55.500000  51.400002  63.799999      31.5  \n",
              "4  224.199997   97.900002  174.600006  98.900002  57.099998      31.5  \n",
              "\n",
              "[5 rows x 39 columns]"
            ],
            "text/html": [
              "\n",
              "  <div id=\"df-8f6b947c-9cfd-4c56-9a3a-9dc91cfca99a\" class=\"colab-df-container\">\n",
              "    <div>\n",
              "<style scoped>\n",
              "    .dataframe tbody tr th:only-of-type {\n",
              "        vertical-align: middle;\n",
              "    }\n",
              "\n",
              "    .dataframe tbody tr th {\n",
              "        vertical-align: top;\n",
              "    }\n",
              "\n",
              "    .dataframe thead th {\n",
              "        text-align: right;\n",
              "    }\n",
              "</style>\n",
              "<table border=\"1\" class=\"dataframe\">\n",
              "  <thead>\n",
              "    <tr style=\"text-align: right;\">\n",
              "      <th></th>\n",
              "      <th>SHCODE</th>\n",
              "      <th>COUNTRY</th>\n",
              "      <th>DROP70</th>\n",
              "      <th>DROP75</th>\n",
              "      <th>DROP80</th>\n",
              "      <th>DROP85</th>\n",
              "      <th>DROP90</th>\n",
              "      <th>REPPRI65</th>\n",
              "      <th>REPPRI70</th>\n",
              "      <th>REPPRI75</th>\n",
              "      <th>...</th>\n",
              "      <th>SHPUPP80</th>\n",
              "      <th>SHPUPP85</th>\n",
              "      <th>SHPUPP90</th>\n",
              "      <th>SHPUPS60</th>\n",
              "      <th>SHPUPS65</th>\n",
              "      <th>SHPUPS70</th>\n",
              "      <th>SHPUPS75</th>\n",
              "      <th>SHPUPS80</th>\n",
              "      <th>SHPUPS85</th>\n",
              "      <th>SHPUPS90</th>\n",
              "    </tr>\n",
              "  </thead>\n",
              "  <tbody>\n",
              "    <tr>\n",
              "      <th>0</th>\n",
              "      <td>1</td>\n",
              "      <td>Algeria</td>\n",
              "      <td>31.3</td>\n",
              "      <td>28.8</td>\n",
              "      <td>23.5</td>\n",
              "      <td>9.8</td>\n",
              "      <td>10.0</td>\n",
              "      <td>NaN</td>\n",
              "      <td>NaN</td>\n",
              "      <td>13.0</td>\n",
              "      <td>...</td>\n",
              "      <td>8.600000</td>\n",
              "      <td>NaN</td>\n",
              "      <td>13.3</td>\n",
              "      <td>NaN</td>\n",
              "      <td>75.199997</td>\n",
              "      <td>48.900002</td>\n",
              "      <td>59.200001</td>\n",
              "      <td>23.000000</td>\n",
              "      <td>NaN</td>\n",
              "      <td>31.5</td>\n",
              "    </tr>\n",
              "    <tr>\n",
              "      <th>1</th>\n",
              "      <td>2</td>\n",
              "      <td>Angola</td>\n",
              "      <td>66.0</td>\n",
              "      <td>66.0</td>\n",
              "      <td>66.0</td>\n",
              "      <td>66.0</td>\n",
              "      <td>66.0</td>\n",
              "      <td>NaN</td>\n",
              "      <td>NaN</td>\n",
              "      <td>13.0</td>\n",
              "      <td>...</td>\n",
              "      <td>8.600000</td>\n",
              "      <td>NaN</td>\n",
              "      <td>13.3</td>\n",
              "      <td>NaN</td>\n",
              "      <td>75.199997</td>\n",
              "      <td>48.900002</td>\n",
              "      <td>59.200001</td>\n",
              "      <td>23.000000</td>\n",
              "      <td>NaN</td>\n",
              "      <td>31.5</td>\n",
              "    </tr>\n",
              "    <tr>\n",
              "      <th>2</th>\n",
              "      <td>3</td>\n",
              "      <td>Benin</td>\n",
              "      <td>64.0</td>\n",
              "      <td>64.0</td>\n",
              "      <td>64.0</td>\n",
              "      <td>64.0</td>\n",
              "      <td>60.0</td>\n",
              "      <td>22.0</td>\n",
              "      <td>17.0</td>\n",
              "      <td>22.0</td>\n",
              "      <td>...</td>\n",
              "      <td>18.200001</td>\n",
              "      <td>NaN</td>\n",
              "      <td>13.3</td>\n",
              "      <td>NaN</td>\n",
              "      <td>123.800003</td>\n",
              "      <td>101.099998</td>\n",
              "      <td>39.400002</td>\n",
              "      <td>40.200001</td>\n",
              "      <td>NaN</td>\n",
              "      <td>31.5</td>\n",
              "    </tr>\n",
              "    <tr>\n",
              "      <th>3</th>\n",
              "      <td>4</td>\n",
              "      <td>Botswana</td>\n",
              "      <td>50.4</td>\n",
              "      <td>18.2</td>\n",
              "      <td>26.7</td>\n",
              "      <td>10.7</td>\n",
              "      <td>20.0</td>\n",
              "      <td>0.0</td>\n",
              "      <td>0.0</td>\n",
              "      <td>3.0</td>\n",
              "      <td>...</td>\n",
              "      <td>11.200000</td>\n",
              "      <td>9.200000</td>\n",
              "      <td>13.3</td>\n",
              "      <td>147.100006</td>\n",
              "      <td>224.199997</td>\n",
              "      <td>97.900002</td>\n",
              "      <td>55.500000</td>\n",
              "      <td>51.400002</td>\n",
              "      <td>63.799999</td>\n",
              "      <td>31.5</td>\n",
              "    </tr>\n",
              "    <tr>\n",
              "      <th>4</th>\n",
              "      <td>5</td>\n",
              "      <td>Burkina Faso</td>\n",
              "      <td>51.0</td>\n",
              "      <td>38.3</td>\n",
              "      <td>25.1</td>\n",
              "      <td>26.2</td>\n",
              "      <td>29.0</td>\n",
              "      <td>18.0</td>\n",
              "      <td>0.0</td>\n",
              "      <td>3.0</td>\n",
              "      <td>...</td>\n",
              "      <td>22.000000</td>\n",
              "      <td>16.299999</td>\n",
              "      <td>13.3</td>\n",
              "      <td>147.100006</td>\n",
              "      <td>224.199997</td>\n",
              "      <td>97.900002</td>\n",
              "      <td>174.600006</td>\n",
              "      <td>98.900002</td>\n",
              "      <td>57.099998</td>\n",
              "      <td>31.5</td>\n",
              "    </tr>\n",
              "  </tbody>\n",
              "</table>\n",
              "<p>5 rows × 39 columns</p>\n",
              "</div>\n",
              "    <div class=\"colab-df-buttons\">\n",
              "\n",
              "  <div class=\"colab-df-container\">\n",
              "    <button class=\"colab-df-convert\" onclick=\"convertToInteractive('df-8f6b947c-9cfd-4c56-9a3a-9dc91cfca99a')\"\n",
              "            title=\"Convert this dataframe to an interactive table.\"\n",
              "            style=\"display:none;\">\n",
              "\n",
              "  <svg xmlns=\"http://www.w3.org/2000/svg\" height=\"24px\" viewBox=\"0 -960 960 960\">\n",
              "    <path d=\"M120-120v-720h720v720H120Zm60-500h600v-160H180v160Zm220 220h160v-160H400v160Zm0 220h160v-160H400v160ZM180-400h160v-160H180v160Zm440 0h160v-160H620v160ZM180-180h160v-160H180v160Zm440 0h160v-160H620v160Z\"/>\n",
              "  </svg>\n",
              "    </button>\n",
              "\n",
              "  <style>\n",
              "    .colab-df-container {\n",
              "      display:flex;\n",
              "      gap: 12px;\n",
              "    }\n",
              "\n",
              "    .colab-df-convert {\n",
              "      background-color: #E8F0FE;\n",
              "      border: none;\n",
              "      border-radius: 50%;\n",
              "      cursor: pointer;\n",
              "      display: none;\n",
              "      fill: #1967D2;\n",
              "      height: 32px;\n",
              "      padding: 0 0 0 0;\n",
              "      width: 32px;\n",
              "    }\n",
              "\n",
              "    .colab-df-convert:hover {\n",
              "      background-color: #E2EBFA;\n",
              "      box-shadow: 0px 1px 2px rgba(60, 64, 67, 0.3), 0px 1px 3px 1px rgba(60, 64, 67, 0.15);\n",
              "      fill: #174EA6;\n",
              "    }\n",
              "\n",
              "    .colab-df-buttons div {\n",
              "      margin-bottom: 4px;\n",
              "    }\n",
              "\n",
              "    [theme=dark] .colab-df-convert {\n",
              "      background-color: #3B4455;\n",
              "      fill: #D2E3FC;\n",
              "    }\n",
              "\n",
              "    [theme=dark] .colab-df-convert:hover {\n",
              "      background-color: #434B5C;\n",
              "      box-shadow: 0px 1px 3px 1px rgba(0, 0, 0, 0.15);\n",
              "      filter: drop-shadow(0px 1px 2px rgba(0, 0, 0, 0.3));\n",
              "      fill: #FFFFFF;\n",
              "    }\n",
              "  </style>\n",
              "\n",
              "    <script>\n",
              "      const buttonEl =\n",
              "        document.querySelector('#df-8f6b947c-9cfd-4c56-9a3a-9dc91cfca99a button.colab-df-convert');\n",
              "      buttonEl.style.display =\n",
              "        google.colab.kernel.accessAllowed ? 'block' : 'none';\n",
              "\n",
              "      async function convertToInteractive(key) {\n",
              "        const element = document.querySelector('#df-8f6b947c-9cfd-4c56-9a3a-9dc91cfca99a');\n",
              "        const dataTable =\n",
              "          await google.colab.kernel.invokeFunction('convertToInteractive',\n",
              "                                                    [key], {});\n",
              "        if (!dataTable) return;\n",
              "\n",
              "        const docLinkHtml = 'Like what you see? Visit the ' +\n",
              "          '<a target=\"_blank\" href=https://colab.research.google.com/notebooks/data_table.ipynb>data table notebook</a>'\n",
              "          + ' to learn more about interactive tables.';\n",
              "        element.innerHTML = '';\n",
              "        dataTable['output_type'] = 'display_data';\n",
              "        await google.colab.output.renderOutput(dataTable, element);\n",
              "        const docLink = document.createElement('div');\n",
              "        docLink.innerHTML = docLinkHtml;\n",
              "        element.appendChild(docLink);\n",
              "      }\n",
              "    </script>\n",
              "  </div>\n",
              "\n",
              "\n",
              "<div id=\"df-416650db-dc05-488c-abbd-4d09ec76990d\">\n",
              "  <button class=\"colab-df-quickchart\" onclick=\"quickchart('df-416650db-dc05-488c-abbd-4d09ec76990d')\"\n",
              "            title=\"Suggest charts\"\n",
              "            style=\"display:none;\">\n",
              "\n",
              "<svg xmlns=\"http://www.w3.org/2000/svg\" height=\"24px\"viewBox=\"0 0 24 24\"\n",
              "     width=\"24px\">\n",
              "    <g>\n",
              "        <path d=\"M19 3H5c-1.1 0-2 .9-2 2v14c0 1.1.9 2 2 2h14c1.1 0 2-.9 2-2V5c0-1.1-.9-2-2-2zM9 17H7v-7h2v7zm4 0h-2V7h2v10zm4 0h-2v-4h2v4z\"/>\n",
              "    </g>\n",
              "</svg>\n",
              "  </button>\n",
              "\n",
              "<style>\n",
              "  .colab-df-quickchart {\n",
              "      --bg-color: #E8F0FE;\n",
              "      --fill-color: #1967D2;\n",
              "      --hover-bg-color: #E2EBFA;\n",
              "      --hover-fill-color: #174EA6;\n",
              "      --disabled-fill-color: #AAA;\n",
              "      --disabled-bg-color: #DDD;\n",
              "  }\n",
              "\n",
              "  [theme=dark] .colab-df-quickchart {\n",
              "      --bg-color: #3B4455;\n",
              "      --fill-color: #D2E3FC;\n",
              "      --hover-bg-color: #434B5C;\n",
              "      --hover-fill-color: #FFFFFF;\n",
              "      --disabled-bg-color: #3B4455;\n",
              "      --disabled-fill-color: #666;\n",
              "  }\n",
              "\n",
              "  .colab-df-quickchart {\n",
              "    background-color: var(--bg-color);\n",
              "    border: none;\n",
              "    border-radius: 50%;\n",
              "    cursor: pointer;\n",
              "    display: none;\n",
              "    fill: var(--fill-color);\n",
              "    height: 32px;\n",
              "    padding: 0;\n",
              "    width: 32px;\n",
              "  }\n",
              "\n",
              "  .colab-df-quickchart:hover {\n",
              "    background-color: var(--hover-bg-color);\n",
              "    box-shadow: 0 1px 2px rgba(60, 64, 67, 0.3), 0 1px 3px 1px rgba(60, 64, 67, 0.15);\n",
              "    fill: var(--button-hover-fill-color);\n",
              "  }\n",
              "\n",
              "  .colab-df-quickchart-complete:disabled,\n",
              "  .colab-df-quickchart-complete:disabled:hover {\n",
              "    background-color: var(--disabled-bg-color);\n",
              "    fill: var(--disabled-fill-color);\n",
              "    box-shadow: none;\n",
              "  }\n",
              "\n",
              "  .colab-df-spinner {\n",
              "    border: 2px solid var(--fill-color);\n",
              "    border-color: transparent;\n",
              "    border-bottom-color: var(--fill-color);\n",
              "    animation:\n",
              "      spin 1s steps(1) infinite;\n",
              "  }\n",
              "\n",
              "  @keyframes spin {\n",
              "    0% {\n",
              "      border-color: transparent;\n",
              "      border-bottom-color: var(--fill-color);\n",
              "      border-left-color: var(--fill-color);\n",
              "    }\n",
              "    20% {\n",
              "      border-color: transparent;\n",
              "      border-left-color: var(--fill-color);\n",
              "      border-top-color: var(--fill-color);\n",
              "    }\n",
              "    30% {\n",
              "      border-color: transparent;\n",
              "      border-left-color: var(--fill-color);\n",
              "      border-top-color: var(--fill-color);\n",
              "      border-right-color: var(--fill-color);\n",
              "    }\n",
              "    40% {\n",
              "      border-color: transparent;\n",
              "      border-right-color: var(--fill-color);\n",
              "      border-top-color: var(--fill-color);\n",
              "    }\n",
              "    60% {\n",
              "      border-color: transparent;\n",
              "      border-right-color: var(--fill-color);\n",
              "    }\n",
              "    80% {\n",
              "      border-color: transparent;\n",
              "      border-right-color: var(--fill-color);\n",
              "      border-bottom-color: var(--fill-color);\n",
              "    }\n",
              "    90% {\n",
              "      border-color: transparent;\n",
              "      border-bottom-color: var(--fill-color);\n",
              "    }\n",
              "  }\n",
              "</style>\n",
              "\n",
              "  <script>\n",
              "    async function quickchart(key) {\n",
              "      const quickchartButtonEl =\n",
              "        document.querySelector('#' + key + ' button');\n",
              "      quickchartButtonEl.disabled = true;  // To prevent multiple clicks.\n",
              "      quickchartButtonEl.classList.add('colab-df-spinner');\n",
              "      try {\n",
              "        const charts = await google.colab.kernel.invokeFunction(\n",
              "            'suggestCharts', [key], {});\n",
              "      } catch (error) {\n",
              "        console.error('Error during call to suggestCharts:', error);\n",
              "      }\n",
              "      quickchartButtonEl.classList.remove('colab-df-spinner');\n",
              "      quickchartButtonEl.classList.add('colab-df-quickchart-complete');\n",
              "    }\n",
              "    (() => {\n",
              "      let quickchartButtonEl =\n",
              "        document.querySelector('#df-416650db-dc05-488c-abbd-4d09ec76990d button');\n",
              "      quickchartButtonEl.style.display =\n",
              "        google.colab.kernel.accessAllowed ? 'block' : 'none';\n",
              "    })();\n",
              "  </script>\n",
              "</div>\n",
              "\n",
              "    </div>\n",
              "  </div>\n"
            ],
            "application/vnd.google.colaboratory.intrinsic+json": {
              "type": "dataframe",
              "variable_name": "data_df"
            }
          },
          "metadata": {},
          "execution_count": 71
        }
      ]
    },
    {
      "cell_type": "markdown",
      "source": [
        "lets use 3 models and compare the outcomes of all of them to see which one has the best prediction\n",
        "\n"
      ],
      "metadata": {
        "id": "4FSktVIdHZMI"
      }
    },
    {
      "cell_type": "code",
      "source": [
        "final_data['avg_drop_rate'] = final_data[['DROP70', 'DROP75', 'DROP80', 'DROP85', 'DROP90']].mean(axis=1)"
      ],
      "metadata": {
        "colab": {
          "base_uri": "https://localhost:8080/"
        },
        "id": "kciGZDKVliV9",
        "outputId": "d96ac835-bedd-408d-c700-4b96eec40459"
      },
      "execution_count": 78,
      "outputs": [
        {
          "output_type": "stream",
          "name": "stderr",
          "text": [
            "<ipython-input-78-acd961bc605f>:1: SettingWithCopyWarning: \n",
            "A value is trying to be set on a copy of a slice from a DataFrame.\n",
            "Try using .loc[row_indexer,col_indexer] = value instead\n",
            "\n",
            "See the caveats in the documentation: https://pandas.pydata.org/pandas-docs/stable/user_guide/indexing.html#returning-a-view-versus-a-copy\n",
            "  final_data['avg_drop_rate'] = final_data[['DROP70', 'DROP75', 'DROP80', 'DROP85', 'DROP90']].mean(axis=1)\n"
          ]
        }
      ]
    },
    {
      "cell_type": "code",
      "source": [
        "\n",
        "features = [\n",
        "     'REPSEC70', 'REPSEC75', 'REPSEC80', 'REPSEC85', 'REPSEC90',\n",
        "     'SALARP60', 'SALARP65', 'SALARP70', 'SALARP75', 'SALARP80', 'SALARP85', 'SALARP90',\n",
        "     'SHPUPP60', 'SHPUPP65', 'SHPUPP70', 'SHPUPP75', 'SHPUPP80', 'SHPUPP85', 'SHPUPP90',\n",
        "     'SHPUPS60', 'SHPUPS65', 'SHPUPS70', 'SHPUPS75', 'SHPUPS80', 'SHPUPS85', 'SHPUPS90'\n",
        "    ]\n",
        "\n",
        "\n",
        "dic = dict()\n",
        "\n",
        "for feature in features:\n",
        "    dic[feature] = final_data[feature].corr(final_data['avg_drop_rate'])\n",
        "\n",
        "corrs = pd.Series(dic, name='Correlation')\n",
        "corrs.sort_values()\n"
      ],
      "metadata": {
        "colab": {
          "base_uri": "https://localhost:8080/",
          "height": 899
        },
        "id": "aEOVFzgRlh6x",
        "outputId": "4be0668d-6335-4f5e-a2dc-0fabd80f5dba"
      },
      "execution_count": 80,
      "outputs": [
        {
          "output_type": "execute_result",
          "data": {
            "text/plain": [
              "SALARP85   -0.508794\n",
              "SALARP80   -0.443995\n",
              "SALARP90   -0.438711\n",
              "SALARP75   -0.417437\n",
              "SALARP65   -0.375563\n",
              "SALARP70   -0.364432\n",
              "SHPUPP90   -0.318189\n",
              "SHPUPP85   -0.299350\n",
              "SALARP60   -0.253682\n",
              "SHPUPP80   -0.225238\n",
              "SHPUPP75   -0.069735\n",
              "REPSEC75   -0.014754\n",
              "REPSEC70    0.089364\n",
              "SHPUPP65    0.149970\n",
              "SHPUPS80    0.177817\n",
              "SHPUPP70    0.184947\n",
              "REPSEC90    0.185025\n",
              "SHPUPS90    0.203100\n",
              "REPSEC80    0.229700\n",
              "SHPUPP60    0.234824\n",
              "SHPUPS65    0.247061\n",
              "SHPUPS75    0.252536\n",
              "SHPUPS85    0.257394\n",
              "REPSEC85    0.279661\n",
              "SHPUPS70    0.280019\n",
              "SHPUPS60    0.394128\n",
              "Name: Correlation, dtype: float64"
            ],
            "text/html": [
              "<div>\n",
              "<style scoped>\n",
              "    .dataframe tbody tr th:only-of-type {\n",
              "        vertical-align: middle;\n",
              "    }\n",
              "\n",
              "    .dataframe tbody tr th {\n",
              "        vertical-align: top;\n",
              "    }\n",
              "\n",
              "    .dataframe thead th {\n",
              "        text-align: right;\n",
              "    }\n",
              "</style>\n",
              "<table border=\"1\" class=\"dataframe\">\n",
              "  <thead>\n",
              "    <tr style=\"text-align: right;\">\n",
              "      <th></th>\n",
              "      <th>Correlation</th>\n",
              "    </tr>\n",
              "  </thead>\n",
              "  <tbody>\n",
              "    <tr>\n",
              "      <th>SALARP85</th>\n",
              "      <td>-0.508794</td>\n",
              "    </tr>\n",
              "    <tr>\n",
              "      <th>SALARP80</th>\n",
              "      <td>-0.443995</td>\n",
              "    </tr>\n",
              "    <tr>\n",
              "      <th>SALARP90</th>\n",
              "      <td>-0.438711</td>\n",
              "    </tr>\n",
              "    <tr>\n",
              "      <th>SALARP75</th>\n",
              "      <td>-0.417437</td>\n",
              "    </tr>\n",
              "    <tr>\n",
              "      <th>SALARP65</th>\n",
              "      <td>-0.375563</td>\n",
              "    </tr>\n",
              "    <tr>\n",
              "      <th>SALARP70</th>\n",
              "      <td>-0.364432</td>\n",
              "    </tr>\n",
              "    <tr>\n",
              "      <th>SHPUPP90</th>\n",
              "      <td>-0.318189</td>\n",
              "    </tr>\n",
              "    <tr>\n",
              "      <th>SHPUPP85</th>\n",
              "      <td>-0.299350</td>\n",
              "    </tr>\n",
              "    <tr>\n",
              "      <th>SALARP60</th>\n",
              "      <td>-0.253682</td>\n",
              "    </tr>\n",
              "    <tr>\n",
              "      <th>SHPUPP80</th>\n",
              "      <td>-0.225238</td>\n",
              "    </tr>\n",
              "    <tr>\n",
              "      <th>SHPUPP75</th>\n",
              "      <td>-0.069735</td>\n",
              "    </tr>\n",
              "    <tr>\n",
              "      <th>REPSEC75</th>\n",
              "      <td>-0.014754</td>\n",
              "    </tr>\n",
              "    <tr>\n",
              "      <th>REPSEC70</th>\n",
              "      <td>0.089364</td>\n",
              "    </tr>\n",
              "    <tr>\n",
              "      <th>SHPUPP65</th>\n",
              "      <td>0.149970</td>\n",
              "    </tr>\n",
              "    <tr>\n",
              "      <th>SHPUPS80</th>\n",
              "      <td>0.177817</td>\n",
              "    </tr>\n",
              "    <tr>\n",
              "      <th>SHPUPP70</th>\n",
              "      <td>0.184947</td>\n",
              "    </tr>\n",
              "    <tr>\n",
              "      <th>REPSEC90</th>\n",
              "      <td>0.185025</td>\n",
              "    </tr>\n",
              "    <tr>\n",
              "      <th>SHPUPS90</th>\n",
              "      <td>0.203100</td>\n",
              "    </tr>\n",
              "    <tr>\n",
              "      <th>REPSEC80</th>\n",
              "      <td>0.229700</td>\n",
              "    </tr>\n",
              "    <tr>\n",
              "      <th>SHPUPP60</th>\n",
              "      <td>0.234824</td>\n",
              "    </tr>\n",
              "    <tr>\n",
              "      <th>SHPUPS65</th>\n",
              "      <td>0.247061</td>\n",
              "    </tr>\n",
              "    <tr>\n",
              "      <th>SHPUPS75</th>\n",
              "      <td>0.252536</td>\n",
              "    </tr>\n",
              "    <tr>\n",
              "      <th>SHPUPS85</th>\n",
              "      <td>0.257394</td>\n",
              "    </tr>\n",
              "    <tr>\n",
              "      <th>REPSEC85</th>\n",
              "      <td>0.279661</td>\n",
              "    </tr>\n",
              "    <tr>\n",
              "      <th>SHPUPS70</th>\n",
              "      <td>0.280019</td>\n",
              "    </tr>\n",
              "    <tr>\n",
              "      <th>SHPUPS60</th>\n",
              "      <td>0.394128</td>\n",
              "    </tr>\n",
              "  </tbody>\n",
              "</table>\n",
              "</div><br><label><b>dtype:</b> float64</label>"
            ]
          },
          "metadata": {},
          "execution_count": 80
        }
      ]
    },
    {
      "cell_type": "markdown",
      "source": [
        "using salary as the best features"
      ],
      "metadata": {
        "id": "jHpZbutlp4v7"
      }
    },
    {
      "cell_type": "code",
      "source": [
        "\n",
        "best_features = ['SALARP85', 'SALARP80', 'SALARP90', 'SALARP75', 'SALARP65', 'SALARP70']\n",
        "\n",
        "X = final_data[best_features]\n",
        "y = final_data['avg_drop_rate']\n",
        "\n"
      ],
      "metadata": {
        "id": "vN4fpJL_gCE8"
      },
      "execution_count": 105,
      "outputs": []
    },
    {
      "cell_type": "code",
      "source": [
        "\n",
        "\n",
        "best_features = ['SALARP85', 'SALARP80', 'SALARP90', 'SALARP75', 'SALARP65', 'SALARP70']\n",
        "\n",
        "X = final_data[best_features]\n",
        "\n",
        "y1 = final_data['avg_drop_rate']\n",
        "\n",
        "\n",
        "preprocessor = ColumnTransformer(\n",
        "    transformers=[\n",
        "        ('num', Pipeline(steps=[\n",
        "            ('imputer', SimpleImputer(strategy='mean')),\n",
        "            ('scaler', StandardScaler())\n",
        "        ]), best_features)\n",
        "    ])\n",
        "\n",
        "model = Pipeline(steps=[\n",
        "    ('preprocessor', preprocessor),\n",
        "    ('regressor', LinearRegression())\n",
        "])\n",
        "\n",
        "\n"
      ],
      "metadata": {
        "id": "8gF7O3m-msFi"
      },
      "execution_count": 95,
      "outputs": []
    },
    {
      "cell_type": "code",
      "source": [
        "X_train_d, X_test_d, y_train_d, y_test_d = train_test_split(X, y1, test_size=0.2, random_state=42)\n",
        "\n",
        "model.fit(X_train_d, y_train_d)\n",
        "y_pred_d = model.predict(X_test_d)\n",
        "print(f\"Predicted Drop-out Rates: {y_pred_d[:5]}\")\n"
      ],
      "metadata": {
        "colab": {
          "base_uri": "https://localhost:8080/"
        },
        "id": "SD9T38rLnJ25",
        "outputId": "fa14e669-d50b-4179-8543-27fc5bbae1e0"
      },
      "execution_count": 96,
      "outputs": [
        {
          "output_type": "stream",
          "name": "stdout",
          "text": [
            "Predicted Drop-out Rates: [32.474289   28.08670791 30.98612443 32.13580033 33.53278794]\n"
          ]
        }
      ]
    },
    {
      "cell_type": "markdown",
      "source": [
        "using linear regressor"
      ],
      "metadata": {
        "id": "r_7bk3ZVPrRJ"
      }
    },
    {
      "cell_type": "code",
      "source": [
        "mse = mean_squared_error(y_test_d, y_pred_d)\n",
        "rmse = np.sqrt(mse)\n",
        "print(f\"Root Mean Squared Error (RMSE): {rmse}\")"
      ],
      "metadata": {
        "colab": {
          "base_uri": "https://localhost:8080/"
        },
        "id": "FE61HPDHn3QK",
        "outputId": "3546b04d-1bb0-4146-f028-11722d6eb5ca"
      },
      "execution_count": 98,
      "outputs": [
        {
          "output_type": "stream",
          "name": "stdout",
          "text": [
            "Root Mean Squared Error (RMSE): 21.538492532344392\n"
          ]
        }
      ]
    },
    {
      "cell_type": "markdown",
      "source": [
        "using ratio of gpero for features"
      ],
      "metadata": {
        "id": "Z3iJH3Z7pKyD"
      }
    },
    {
      "cell_type": "code",
      "source": [
        "\n",
        "\n",
        "best_features = ['SHPUPP90', 'SHPUPP85', 'SALARP60', 'SALARP75', 'SHPUPP80', 'SHPUPP75']\n",
        "\n",
        "X = final_data[best_features]\n",
        "\n",
        "y1 = final_data['avg_drop_rate']\n",
        "\n",
        "\n",
        "preprocessor = ColumnTransformer(\n",
        "    transformers=[\n",
        "        ('num', Pipeline(steps=[\n",
        "            ('imputer', SimpleImputer(strategy='mean')),\n",
        "            ('scaler', StandardScaler())\n",
        "        ]), best_features)\n",
        "    ])\n",
        "\n",
        "model = Pipeline(steps=[\n",
        "    ('preprocessor', preprocessor),\n",
        "    ('regressor', LinearRegression())\n",
        "])\n",
        "\n",
        "\n"
      ],
      "metadata": {
        "id": "Pki0jxVhpPYe"
      },
      "execution_count": 106,
      "outputs": []
    },
    {
      "cell_type": "code",
      "source": [
        "X_train_d, X_test_d, y_train_d, y_test_d = train_test_split(X, y1, test_size=0.2, random_state=42)\n",
        "\n",
        "model.fit(X_train_d, y_train_d)\n",
        "y_pred_d = model.predict(X_test_d)\n",
        "print(f\"Predicted Drop-out Rates: {y_pred_d[:5]}\")\n"
      ],
      "metadata": {
        "colab": {
          "base_uri": "https://localhost:8080/"
        },
        "id": "fquthPPapVEn",
        "outputId": "f9616edb-68e7-447d-8a8f-825a7699d097"
      },
      "execution_count": 107,
      "outputs": [
        {
          "output_type": "stream",
          "name": "stdout",
          "text": [
            "Predicted Drop-out Rates: [32.00133324 22.96541274 30.69427475 29.03913043 31.85453414]\n"
          ]
        }
      ]
    },
    {
      "cell_type": "code",
      "source": [
        "mse = mean_squared_error(y_test_d, y_pred_d)\n",
        "rmse = np.sqrt(mse)\n",
        "print(f\"Root Mean Squared Error (RMSE): {rmse}\")"
      ],
      "metadata": {
        "colab": {
          "base_uri": "https://localhost:8080/"
        },
        "id": "9DsWeHlRpZDL",
        "outputId": "697afa96-9739-4808-fe7b-351dd5ccc49c"
      },
      "execution_count": 108,
      "outputs": [
        {
          "output_type": "stream",
          "name": "stdout",
          "text": [
            "Root Mean Squared Error (RMSE): 23.65230597538617\n"
          ]
        }
      ]
    },
    {
      "cell_type": "markdown",
      "source": [
        "From both these model we can understand that the the above using salary was a better feature to predict the models as we can see that the rmse was much better using salary"
      ],
      "metadata": {
        "id": "3dFqMyZ6PHxX"
      }
    }
  ]
}